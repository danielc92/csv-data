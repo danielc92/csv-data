{
 "cells": [
  {
   "cell_type": "code",
   "execution_count": 1,
   "metadata": {},
   "outputs": [],
   "source": [
    "import os"
   ]
  },
  {
   "cell_type": "code",
   "execution_count": 2,
   "metadata": {},
   "outputs": [],
   "source": [
    "l1 = 'https://raw.githubusercontent.com/danielc92/csv-data/master/seaborn-data/{}'\n",
    "l2 = 'https://raw.githubusercontent.com/danielc92/csv-data/master/csv-collection/{}'"
   ]
  },
  {
   "cell_type": "code",
   "execution_count": 10,
   "metadata": {},
   "outputs": [],
   "source": [
    "links = {'seaborn-data':[],\n",
    "         'csv-collection':[]}"
   ]
  },
  {
   "cell_type": "code",
   "execution_count": 11,
   "metadata": {},
   "outputs": [],
   "source": [
    "for filename in os.listdir('./csv-collection/'):\n",
    "    links['csv-collection'].append((filename,l2.format(filename), 'https://github.com/angelsvirkov/csv-collection'))"
   ]
  },
  {
   "cell_type": "code",
   "execution_count": 9,
   "metadata": {},
   "outputs": [
    {
     "data": {
      "text/plain": [
       "{'seaborn-data': [],\n",
       " 'csv-collection': [('2010_alcohol_consumption_by_country.csv',\n",
       "   'https://raw.githubusercontent.com/danielc92/csv-data/master/csv-collection/2010_alcohol_consumption_by_country.csv'),\n",
       "  ('2014_apple_stock.csv',\n",
       "   'https://raw.githubusercontent.com/danielc92/csv-data/master/csv-collection/2014_apple_stock.csv'),\n",
       "  ('air_travel.csv',\n",
       "   'https://raw.githubusercontent.com/danielc92/csv-data/master/csv-collection/air_travel.csv'),\n",
       "  ('Alpha_shape.csv',\n",
       "   'https://raw.githubusercontent.com/danielc92/csv-data/master/csv-collection/Alpha_shape.csv'),\n",
       "  ('Antibiotics.csv',\n",
       "   'https://raw.githubusercontent.com/danielc92/csv-data/master/csv-collection/Antibiotics.csv'),\n",
       "  ('average_nightly_viewship_TV_magazine.csv',\n",
       "   'https://raw.githubusercontent.com/danielc92/csv-data/master/csv-collection/average_nightly_viewship_TV_magazine.csv'),\n",
       "  ('Broken_Example2_WARNING.csv',\n",
       "   'https://raw.githubusercontent.com/danielc92/csv-data/master/csv-collection/Broken_Example2_WARNING.csv'),\n",
       "  ('Broken_Example_WARNING.csv',\n",
       "   'https://raw.githubusercontent.com/danielc92/csv-data/master/csv-collection/Broken_Example_WARNING.csv'),\n",
       "  ('Canada_immigration.csv',\n",
       "   'https://raw.githubusercontent.com/danielc92/csv-data/master/csv-collection/Canada_immigration.csv'),\n",
       "  ('cars.csv',\n",
       "   'https://raw.githubusercontent.com/danielc92/csv-data/master/csv-collection/cars.csv'),\n",
       "  ('cereal.csv',\n",
       "   'https://raw.githubusercontent.com/danielc92/csv-data/master/csv-collection/cereal.csv'),\n",
       "  ('CO2.csv',\n",
       "   'https://raw.githubusercontent.com/danielc92/csv-data/master/csv-collection/CO2.csv'),\n",
       "  ('countries_gdb_per_sector.csv',\n",
       "   'https://raw.githubusercontent.com/danielc92/csv-data/master/csv-collection/countries_gdb_per_sector.csv'),\n",
       "  ('crash_catalonia.csv',\n",
       "   'https://raw.githubusercontent.com/danielc92/csv-data/master/csv-collection/crash_catalonia.csv'),\n",
       "  ('element_concentration_in_product.csv',\n",
       "   'https://raw.githubusercontent.com/danielc92/csv-data/master/csv-collection/element_concentration_in_product.csv'),\n",
       "  ('energy_source_per_country.csv',\n",
       "   'https://raw.githubusercontent.com/danielc92/csv-data/master/csv-collection/energy_source_per_country.csv'),\n",
       "  ('ford_escort.csv',\n",
       "   'https://raw.githubusercontent.com/danielc92/csv-data/master/csv-collection/ford_escort.csv'),\n",
       "  ('frequency_of_letters_in_text.csv',\n",
       "   'https://raw.githubusercontent.com/danielc92/csv-data/master/csv-collection/frequency_of_letters_in_text.csv'),\n",
       "  ('GDP_World_2014.csv',\n",
       "   'https://raw.githubusercontent.com/danielc92/csv-data/master/csv-collection/GDP_World_2014.csv'),\n",
       "  ('grades_partially_broken.csv',\n",
       "   'https://raw.githubusercontent.com/danielc92/csv-data/master/csv-collection/grades_partially_broken.csv'),\n",
       "  ('height_weight_10000_people.csv',\n",
       "   'https://raw.githubusercontent.com/danielc92/csv-data/master/csv-collection/height_weight_10000_people.csv'),\n",
       "  ('height_weight_200_people.csv',\n",
       "   'https://raw.githubusercontent.com/danielc92/csv-data/master/csv-collection/height_weight_200_people.csv'),\n",
       "  ('huricane_count.csv',\n",
       "   'https://raw.githubusercontent.com/danielc92/csv-data/master/csv-collection/huricane_count.csv'),\n",
       "  ('john_yearly_fruit_consumption.csv',\n",
       "   'https://raw.githubusercontent.com/danielc92/csv-data/master/csv-collection/john_yearly_fruit_consumption.csv'),\n",
       "  ('long-names-bar-chart.csv',\n",
       "   'https://raw.githubusercontent.com/danielc92/csv-data/master/csv-collection/long-names-bar-chart.csv'),\n",
       "  ('make_up.csv',\n",
       "   'https://raw.githubusercontent.com/danielc92/csv-data/master/csv-collection/make_up.csv'),\n",
       "  ('movies.csv',\n",
       "   'https://raw.githubusercontent.com/danielc92/csv-data/master/csv-collection/movies.csv'),\n",
       "  ('movie_genres.csv',\n",
       "   'https://raw.githubusercontent.com/danielc92/csv-data/master/csv-collection/movie_genres.csv'),\n",
       "  ('nile_flood_data.csv',\n",
       "   'https://raw.githubusercontent.com/danielc92/csv-data/master/csv-collection/nile_flood_data.csv'),\n",
       "  ('old_faithful_geyser.csv',\n",
       "   'https://raw.githubusercontent.com/danielc92/csv-data/master/csv-collection/old_faithful_geyser.csv'),\n",
       "  ('patent_meldungen_nach_bundesland.csv',\n",
       "   'https://raw.githubusercontent.com/danielc92/csv-data/master/csv-collection/patent_meldungen_nach_bundesland.csv'),\n",
       "  ('phone-market-share-2.csv',\n",
       "   'https://raw.githubusercontent.com/danielc92/csv-data/master/csv-collection/phone-market-share-2.csv'),\n",
       "  ('phone-market-share.csv',\n",
       "   'https://raw.githubusercontent.com/danielc92/csv-data/master/csv-collection/phone-market-share.csv'),\n",
       "  ('population.csv',\n",
       "   'https://raw.githubusercontent.com/danielc92/csv-data/master/csv-collection/population.csv'),\n",
       "  ('Restaurant_opinions.csv',\n",
       "   'https://raw.githubusercontent.com/danielc92/csv-data/master/csv-collection/Restaurant_opinions.csv'),\n",
       "  ('season_2012_MLB_teams.csv',\n",
       "   'https://raw.githubusercontent.com/danielc92/csv-data/master/csv-collection/season_2012_MLB_teams.csv'),\n",
       "  ('seattle-weather.csv',\n",
       "   'https://raw.githubusercontent.com/danielc92/csv-data/master/csv-collection/seattle-weather.csv'),\n",
       "  ('shoe_sizes.csv',\n",
       "   'https://raw.githubusercontent.com/danielc92/csv-data/master/csv-collection/shoe_sizes.csv'),\n",
       "  ('snakes_count_1000.csv',\n",
       "   'https://raw.githubusercontent.com/danielc92/csv-data/master/csv-collection/snakes_count_1000.csv'),\n",
       "  ('species_area.csv',\n",
       "   'https://raw.githubusercontent.com/danielc92/csv-data/master/csv-collection/species_area.csv'),\n",
       "  ('speed_fatality_rate.csv',\n",
       "   'https://raw.githubusercontent.com/danielc92/csv-data/master/csv-collection/speed_fatality_rate.csv'),\n",
       "  ('tallahasse_cab_prices.csv',\n",
       "   'https://raw.githubusercontent.com/danielc92/csv-data/master/csv-collection/tallahasse_cab_prices.csv'),\n",
       "  ('Thurstone.csv',\n",
       "   'https://raw.githubusercontent.com/danielc92/csv-data/master/csv-collection/Thurstone.csv'),\n",
       "  ('trees.csv',\n",
       "   'https://raw.githubusercontent.com/danielc92/csv-data/master/csv-collection/trees.csv'),\n",
       "  ('tuna-production.csv',\n",
       "   'https://raw.githubusercontent.com/danielc92/csv-data/master/csv-collection/tuna-production.csv'),\n",
       "  ('UKGas.csv',\n",
       "   'https://raw.githubusercontent.com/danielc92/csv-data/master/csv-collection/UKGas.csv'),\n",
       "  ('uk_rain_2014.csv',\n",
       "   'https://raw.githubusercontent.com/danielc92/csv-data/master/csv-collection/uk_rain_2014.csv'),\n",
       "  ('University_earnings.csv',\n",
       "   'https://raw.githubusercontent.com/danielc92/csv-data/master/csv-collection/University_earnings.csv'),\n",
       "  ('USArrests.csv',\n",
       "   'https://raw.githubusercontent.com/danielc92/csv-data/master/csv-collection/USArrests.csv'),\n",
       "  ('US_state_areas.csv',\n",
       "   'https://raw.githubusercontent.com/danielc92/csv-data/master/csv-collection/US_state_areas.csv'),\n",
       "  ('WorldPhones.csv',\n",
       "   'https://raw.githubusercontent.com/danielc92/csv-data/master/csv-collection/WorldPhones.csv')]}"
      ]
     },
     "execution_count": 9,
     "metadata": {},
     "output_type": "execute_result"
    }
   ],
   "source": [
    "links"
   ]
  },
  {
   "cell_type": "code",
   "execution_count": 12,
   "metadata": {},
   "outputs": [],
   "source": [
    "for filename in os.listdir('./seaborn-data/'):\n",
    "    links['seaborn-data'].append((filename,l1.format(filename), 'https://github.com/mwaskom/seaborn-data'))"
   ]
  },
  {
   "cell_type": "code",
   "execution_count": 13,
   "metadata": {},
   "outputs": [],
   "source": [
    "import json"
   ]
  },
  {
   "cell_type": "code",
   "execution_count": 14,
   "metadata": {},
   "outputs": [],
   "source": [
    "with open('data-sources.json', 'w') as fp:\n",
    "    json.dump(links, fp)"
   ]
  },
  {
   "cell_type": "code",
   "execution_count": null,
   "metadata": {},
   "outputs": [],
   "source": []
  }
 ],
 "metadata": {
  "kernelspec": {
   "display_name": "Python 3",
   "language": "python",
   "name": "python3"
  },
  "language_info": {
   "codemirror_mode": {
    "name": "ipython",
    "version": 3
   },
   "file_extension": ".py",
   "mimetype": "text/x-python",
   "name": "python",
   "nbconvert_exporter": "python",
   "pygments_lexer": "ipython3",
   "version": "3.6.5"
  },
  "toc": {
   "base_numbering": 1,
   "nav_menu": {},
   "number_sections": true,
   "sideBar": true,
   "skip_h1_title": false,
   "title_cell": "Table of Contents",
   "title_sidebar": "Contents",
   "toc_cell": false,
   "toc_position": {},
   "toc_section_display": true,
   "toc_window_display": false
  }
 },
 "nbformat": 4,
 "nbformat_minor": 2
}
