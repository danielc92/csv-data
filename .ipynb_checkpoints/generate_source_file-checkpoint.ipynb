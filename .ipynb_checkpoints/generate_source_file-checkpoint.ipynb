{
 "cells": [
  {
   "cell_type": "code",
   "execution_count": 1,
   "metadata": {},
   "outputs": [],
   "source": [
    "import os\n",
    "from collections import defaultdict"
   ]
  },
  {
   "cell_type": "markdown",
   "metadata": {},
   "source": [
    "### Locate Folders"
   ]
  },
  {
   "cell_type": "code",
   "execution_count": 2,
   "metadata": {},
   "outputs": [],
   "source": [
    "root = './'\n",
    "folders = []\n",
    "for item in os.listdir(root):\n",
    "    if '.' not in item:\n",
    "        print(\"Folder found! Added {} to folders\".format(item))\n",
    "        folders.append(item)"
   ]
  },
  {
   "cell_type": "code",
   "execution_count": 3,
   "metadata": {},
   "outputs": [],
   "source": [
    "folders= sorted(folders)"
   ]
  },
  {
   "cell_type": "markdown",
   "metadata": {},
   "source": [
    "### Locate Datasets"
   ]
  },
  {
   "cell_type": "code",
   "execution_count": 4,
   "metadata": {},
   "outputs": [],
   "source": [
    "files = defaultdict(list)"
   ]
  },
  {
   "cell_type": "code",
   "execution_count": 5,
   "metadata": {},
   "outputs": [],
   "source": [
    "for folder in folders:\n",
    "    for filename in os.listdir(root + folder):\n",
    "        if '.csv' in filename:\n",
    "            files[folder].append(filename)"
   ]
  },
  {
   "cell_type": "code",
   "execution_count": 6,
   "metadata": {},
   "outputs": [
    {
     "data": {
      "text/plain": [
       "defaultdict(list,\n",
       "            {'csv-collection': ['Canada_immigration.csv',\n",
       "              'ford_escort.csv',\n",
       "              'Alpha_shape.csv',\n",
       "              'season_2012_MLB_teams.csv',\n",
       "              'make_up.csv',\n",
       "              'energy_source_per_country.csv',\n",
       "              'average_nightly_viewship_TV_magazine.csv',\n",
       "              'US_state_areas.csv',\n",
       "              'UKGas.csv',\n",
       "              'species_area.csv',\n",
       "              'john_yearly_fruit_consumption.csv',\n",
       "              'WorldPhones.csv',\n",
       "              'nile_flood_data.csv',\n",
       "              'crash_catalonia.csv',\n",
       "              'Antibiotics.csv',\n",
       "              'trees.csv',\n",
       "              'frequency_of_letters_in_text.csv',\n",
       "              'University_earnings.csv',\n",
       "              'uk_rain_2014.csv',\n",
       "              'tallahasse_cab_prices.csv',\n",
       "              'snakes_count_1000.csv',\n",
       "              'grades_partially_broken.csv',\n",
       "              '2010_alcohol_consumption_by_country.csv',\n",
       "              'old_faithful_geyser.csv',\n",
       "              'seattle-weather.csv',\n",
       "              'tuna-production.csv',\n",
       "              'USArrests.csv',\n",
       "              'population.csv',\n",
       "              'air_travel.csv',\n",
       "              'long-names-bar-chart.csv',\n",
       "              '2014_apple_stock.csv',\n",
       "              'cereal.csv',\n",
       "              'height_weight_200_people.csv',\n",
       "              'countries_gdb_per_sector.csv',\n",
       "              'element_concentration_in_product.csv',\n",
       "              'huricane_count.csv',\n",
       "              'CO2.csv',\n",
       "              'phone-market-share-2.csv',\n",
       "              'shoe_sizes.csv',\n",
       "              'speed_fatality_rate.csv',\n",
       "              'GDP_World_2014.csv',\n",
       "              'movie_genres.csv',\n",
       "              'patent_meldungen_nach_bundesland.csv',\n",
       "              'movies.csv',\n",
       "              'cars.csv',\n",
       "              'Thurstone.csv',\n",
       "              'phone-market-share.csv',\n",
       "              'Restaurant_opinions.csv',\n",
       "              'height_weight_10000_people.csv'],\n",
       "             'kaggle': ['student-por.csv',\n",
       "              'adjusted-name-combinations-list.csv',\n",
       "              'schools-deprecated-2012.csv',\n",
       "              'character-deaths.csv',\n",
       "              'bachelorette.csv',\n",
       "              'heroes_information.csv',\n",
       "              'Uniqlo(FastRetailing) 2012-2016 Training - stocks2012-2016.csv',\n",
       "              'tiny_eeg_self_experiment_music.csv',\n",
       "              'battles.csv',\n",
       "              'consolidated_coin_data.csv',\n",
       "              'amazon_jobs_dataset.csv',\n",
       "              'emnlp-2018.csv',\n",
       "              'Pokemon.csv',\n",
       "              'emnlp-2016.csv',\n",
       "              'emnlp-2017.csv',\n",
       "              'flavors_of_cacao.csv',\n",
       "              'Data_train_reduced.csv',\n",
       "              'super_hero_powers.csv',\n",
       "              'child-care-regulated-programs.csv',\n",
       "              'character-predictions.csv',\n",
       "              'student-mat.csv',\n",
       "              'flu-shot-clinic-locations-2012.csv',\n",
       "              'olist_closed_deals_dataset.csv',\n",
       "              'kc_house_data.csv',\n",
       "              'survey.csv',\n",
       "              'council-on-the-arts-grant-awards-beginning-2003.csv',\n",
       "              'fifa_ranking.csv',\n",
       "              'mushrooms.csv',\n",
       "              'allstar_player_talent.csv'],\n",
       "             'r-datasets': ['nswpsid1.csv',\n",
       "              'Hdma.csv',\n",
       "              'meyer.csv',\n",
       "              'Soils.csv',\n",
       "              'Clothing.csv',\n",
       "              'fars2008.csv',\n",
       "              'DoctorAUS.csv',\n",
       "              'lbw.csv',\n",
       "              'Crime.csv',\n",
       "              'cps1.csv',\n",
       "              'Hmda.csv',\n",
       "              'Caschool.csv',\n",
       "              'FriendFoe.csv',\n",
       "              'Arrests.csv',\n",
       "              'LoBD.csv',\n",
       "              'cps2.csv',\n",
       "              'mdvis.csv',\n",
       "              'medpar.csv',\n",
       "              'affairs.csv',\n",
       "              'nsw74psid1.csv',\n",
       "              'nuclear.csv',\n",
       "              'HC.csv',\n",
       "              'MplsStops.csv',\n",
       "              'midwest.csv',\n",
       "              'rwm5yr.csv',\n",
       "              'loomis.csv',\n",
       "              'Car.csv',\n",
       "              'flower.csv',\n",
       "              'german.csv',\n",
       "              'votes.repub.csv',\n",
       "              'Airline.csv',\n",
       "              'Cracker.csv',\n",
       "              'Fatality.csv',\n",
       "              'Guerry.csv',\n",
       "              'BEPS.csv',\n",
       "              'Forbes2000.csv',\n",
       "              'monica.csv',\n",
       "              'Fishing.csv',\n",
       "              'psid1.csv',\n",
       "              'rwm1984.csv',\n",
       "              'science.csv',\n",
       "              'mfblong.csv',\n",
       "              'nep499.csv',\n",
       "              'plantTraits.csv',\n",
       "              'head.injury.csv',\n",
       "              'KosteckiDillon.csv',\n",
       "              'mifem.csv'],\n",
       "             'seaborn-data': ['mpg.csv',\n",
       "              'fmri.csv',\n",
       "              'gammas.csv',\n",
       "              'diamonds.csv',\n",
       "              'planets.csv',\n",
       "              'exercise.csv',\n",
       "              'tips.csv',\n",
       "              'iris.csv',\n",
       "              'titanic.csv',\n",
       "              'car_crashes.csv',\n",
       "              'dots.csv',\n",
       "              'brain_networks.csv',\n",
       "              'anscombe.csv',\n",
       "              'flights.csv',\n",
       "              'attention.csv']})"
      ]
     },
     "execution_count": 6,
     "metadata": {},
     "output_type": "execute_result"
    }
   ],
   "source": [
    "files"
   ]
  },
  {
   "cell_type": "code",
   "execution_count": 7,
   "metadata": {},
   "outputs": [],
   "source": [
    "import json"
   ]
  },
  {
   "cell_type": "code",
   "execution_count": 8,
   "metadata": {},
   "outputs": [],
   "source": [
    "with open('data-sources.json', 'w') as fp:\n",
    "    json.dump(files, fp)"
   ]
  }
 ],
 "metadata": {
  "kernelspec": {
   "display_name": "Python 3",
   "language": "python",
   "name": "python3"
  },
  "language_info": {
   "codemirror_mode": {
    "name": "ipython",
    "version": 3
   },
   "file_extension": ".py",
   "mimetype": "text/x-python",
   "name": "python",
   "nbconvert_exporter": "python",
   "pygments_lexer": "ipython3",
   "version": "3.6.5"
  },
  "toc": {
   "base_numbering": 1,
   "nav_menu": {},
   "number_sections": true,
   "sideBar": true,
   "skip_h1_title": false,
   "title_cell": "Table of Contents",
   "title_sidebar": "Contents",
   "toc_cell": false,
   "toc_position": {},
   "toc_section_display": true,
   "toc_window_display": false
  },
  "varInspector": {
   "cols": {
    "lenName": 16,
    "lenType": 16,
    "lenVar": 40
   },
   "kernels_config": {
    "python": {
     "delete_cmd_postfix": "",
     "delete_cmd_prefix": "del ",
     "library": "var_list.py",
     "varRefreshCmd": "print(var_dic_list())"
    },
    "r": {
     "delete_cmd_postfix": ") ",
     "delete_cmd_prefix": "rm(",
     "library": "var_list.r",
     "varRefreshCmd": "cat(var_dic_list()) "
    }
   },
   "types_to_exclude": [
    "module",
    "function",
    "builtin_function_or_method",
    "instance",
    "_Feature"
   ],
   "window_display": false
  }
 },
 "nbformat": 4,
 "nbformat_minor": 2
}
